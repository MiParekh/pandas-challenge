{
 "cells": [
  {
   "cell_type": "markdown",
   "metadata": {},
   "source": [
    "### Note\n",
    "* Instructions have been included for each segment. You do not have to follow them exactly, but they are included to help you think through the steps."
   ]
  },
  {
   "cell_type": "code",
   "execution_count": 1,
   "metadata": {},
   "outputs": [
    {
     "data": {
      "text/html": [
       "<div>\n",
       "<style scoped>\n",
       "    .dataframe tbody tr th:only-of-type {\n",
       "        vertical-align: middle;\n",
       "    }\n",
       "\n",
       "    .dataframe tbody tr th {\n",
       "        vertical-align: top;\n",
       "    }\n",
       "\n",
       "    .dataframe thead th {\n",
       "        text-align: right;\n",
       "    }\n",
       "</style>\n",
       "<table border=\"1\" class=\"dataframe\">\n",
       "  <thead>\n",
       "    <tr style=\"text-align: right;\">\n",
       "      <th></th>\n",
       "      <th>Purchase ID</th>\n",
       "      <th>SN</th>\n",
       "      <th>Age</th>\n",
       "      <th>Gender</th>\n",
       "      <th>Item ID</th>\n",
       "      <th>Item Name</th>\n",
       "      <th>Price</th>\n",
       "    </tr>\n",
       "  </thead>\n",
       "  <tbody>\n",
       "    <tr>\n",
       "      <td>0</td>\n",
       "      <td>0</td>\n",
       "      <td>Lisim78</td>\n",
       "      <td>20</td>\n",
       "      <td>Male</td>\n",
       "      <td>108</td>\n",
       "      <td>Extraction, Quickblade Of Trembling Hands</td>\n",
       "      <td>3.53</td>\n",
       "    </tr>\n",
       "    <tr>\n",
       "      <td>1</td>\n",
       "      <td>1</td>\n",
       "      <td>Lisovynya38</td>\n",
       "      <td>40</td>\n",
       "      <td>Male</td>\n",
       "      <td>143</td>\n",
       "      <td>Frenzied Scimitar</td>\n",
       "      <td>1.56</td>\n",
       "    </tr>\n",
       "    <tr>\n",
       "      <td>2</td>\n",
       "      <td>2</td>\n",
       "      <td>Ithergue48</td>\n",
       "      <td>24</td>\n",
       "      <td>Male</td>\n",
       "      <td>92</td>\n",
       "      <td>Final Critic</td>\n",
       "      <td>4.88</td>\n",
       "    </tr>\n",
       "    <tr>\n",
       "      <td>3</td>\n",
       "      <td>3</td>\n",
       "      <td>Chamassasya86</td>\n",
       "      <td>24</td>\n",
       "      <td>Male</td>\n",
       "      <td>100</td>\n",
       "      <td>Blindscythe</td>\n",
       "      <td>3.27</td>\n",
       "    </tr>\n",
       "    <tr>\n",
       "      <td>4</td>\n",
       "      <td>4</td>\n",
       "      <td>Iskosia90</td>\n",
       "      <td>23</td>\n",
       "      <td>Male</td>\n",
       "      <td>131</td>\n",
       "      <td>Fury</td>\n",
       "      <td>1.44</td>\n",
       "    </tr>\n",
       "  </tbody>\n",
       "</table>\n",
       "</div>"
      ],
      "text/plain": [
       "   Purchase ID             SN  Age Gender  Item ID  \\\n",
       "0            0        Lisim78   20   Male      108   \n",
       "1            1    Lisovynya38   40   Male      143   \n",
       "2            2     Ithergue48   24   Male       92   \n",
       "3            3  Chamassasya86   24   Male      100   \n",
       "4            4      Iskosia90   23   Male      131   \n",
       "\n",
       "                                   Item Name  Price  \n",
       "0  Extraction, Quickblade Of Trembling Hands   3.53  \n",
       "1                          Frenzied Scimitar   1.56  \n",
       "2                               Final Critic   4.88  \n",
       "3                                Blindscythe   3.27  \n",
       "4                                       Fury   1.44  "
      ]
     },
     "execution_count": 1,
     "metadata": {},
     "output_type": "execute_result"
    }
   ],
   "source": [
    "# Dependencies and Setup\n",
    "import pandas as pd\n",
    "\n",
    "# File to Load\n",
    "file = \"Resources/purchase_data.csv\"\n",
    "\n",
    "# Read Purchasing File and store into Pandas data frame\n",
    "purchase_data_df = pd.read_csv(file)\n",
    "purchase_data_df.head()"
   ]
  },
  {
   "cell_type": "markdown",
   "metadata": {},
   "source": [
    "## Player Count"
   ]
  },
  {
   "cell_type": "markdown",
   "metadata": {},
   "source": [
    "* Display the total number of players\n"
   ]
  },
  {
   "cell_type": "code",
   "execution_count": 2,
   "metadata": {},
   "outputs": [
    {
     "data": {
      "text/html": [
       "<div>\n",
       "<style scoped>\n",
       "    .dataframe tbody tr th:only-of-type {\n",
       "        vertical-align: middle;\n",
       "    }\n",
       "\n",
       "    .dataframe tbody tr th {\n",
       "        vertical-align: top;\n",
       "    }\n",
       "\n",
       "    .dataframe thead th {\n",
       "        text-align: right;\n",
       "    }\n",
       "</style>\n",
       "<table border=\"1\" class=\"dataframe\">\n",
       "  <thead>\n",
       "    <tr style=\"text-align: right;\">\n",
       "      <th></th>\n",
       "      <th>Number of Unique Players</th>\n",
       "    </tr>\n",
       "  </thead>\n",
       "  <tbody>\n",
       "    <tr>\n",
       "      <td>0</td>\n",
       "      <td>576</td>\n",
       "    </tr>\n",
       "  </tbody>\n",
       "</table>\n",
       "</div>"
      ],
      "text/plain": [
       "   Number of Unique Players\n",
       "0                       576"
      ]
     },
     "execution_count": 2,
     "metadata": {},
     "output_type": "execute_result"
    }
   ],
   "source": [
    "#Count Unique Values of Players Who Purchased an Item \n",
    "unique_players = len(purchase_data_df[\"SN\"].unique())\n",
    "\n",
    "#Create Dataframe with Unique Players\n",
    "\n",
    "Total_Players = pd.DataFrame({\"Number of Unique Players\":[unique_players]})\n",
    "\n",
    "Total_Players"
   ]
  },
  {
   "cell_type": "markdown",
   "metadata": {},
   "source": [
    "## Purchasing Analysis (Total)"
   ]
  },
  {
   "cell_type": "code",
   "execution_count": 3,
   "metadata": {},
   "outputs": [],
   "source": [
    "#Count Number of Unique Items Based off Item ID\n",
    "unique_items = len(purchase_data_df[\"Item ID\"].unique())\n",
    "\n",
    "#Calculate Average Purchase Price\n",
    "\n",
    "avg_price = purchase_data_df[\"Price\"].mean()\n",
    "\n",
    "#Caluculate Total Items Purchased\n",
    "\n",
    "total_items_purchased = purchase_data_df[\"Purchase ID\"].count()\n",
    "\n",
    "#Calculate Total Revenue\n",
    "\n",
    "total_revenue = purchase_data_df[\"Price\"].sum()\n"
   ]
  },
  {
   "cell_type": "markdown",
   "metadata": {},
   "source": [
    "* Run basic calculations to obtain number of unique items, average price, etc.\n",
    "\n",
    "\n",
    "* Create a summary data frame to hold the results\n",
    "\n",
    "\n",
    "* Optional: give the displayed data cleaner formatting\n",
    "\n",
    "\n",
    "* Display the summary data frame\n"
   ]
  },
  {
   "cell_type": "code",
   "execution_count": 4,
   "metadata": {
    "scrolled": true
   },
   "outputs": [
    {
     "data": {
      "text/html": [
       "<style  type=\"text/css\" >\n",
       "</style><table id=\"T_733be1ee_7059_11ea_944f_acd5647cb938\" ><thead>    <tr>        <th class=\"blank level0\" ></th>        <th class=\"col_heading level0 col0\" >Number of Unique Items</th>        <th class=\"col_heading level0 col1\" >Avg. Purchase Price</th>        <th class=\"col_heading level0 col2\" >Total Number of Purchases</th>        <th class=\"col_heading level0 col3\" >Total Revenue</th>    </tr></thead><tbody>\n",
       "                <tr>\n",
       "                        <th id=\"T_733be1ee_7059_11ea_944f_acd5647cb938level0_row0\" class=\"row_heading level0 row0\" >0</th>\n",
       "                        <td id=\"T_733be1ee_7059_11ea_944f_acd5647cb938row0_col0\" class=\"data row0 col0\" >183</td>\n",
       "                        <td id=\"T_733be1ee_7059_11ea_944f_acd5647cb938row0_col1\" class=\"data row0 col1\" >$3.05</td>\n",
       "                        <td id=\"T_733be1ee_7059_11ea_944f_acd5647cb938row0_col2\" class=\"data row0 col2\" >780</td>\n",
       "                        <td id=\"T_733be1ee_7059_11ea_944f_acd5647cb938row0_col3\" class=\"data row0 col3\" >$2,379.77</td>\n",
       "            </tr>\n",
       "    </tbody></table>"
      ],
      "text/plain": [
       "<pandas.io.formats.style.Styler at 0x1e53ad31608>"
      ]
     },
     "execution_count": 4,
     "metadata": {},
     "output_type": "execute_result"
    }
   ],
   "source": [
    " #Create a new dataframe with the purchasing analysis datapoints\n",
    "purchasing_summary_df = pd.DataFrame({\"Number of Unique Items\":[unique_items],\"Avg. Purchase Price\": [avg_price],\"Total Number of Purchases\":[total_items_purchased],\"Total Revenue\":[total_revenue]})\n",
    "\n",
    "#Change the format of the Avg. Purchase Price and Total Revenue columns to show in a currency format and round to 2 decimals\n",
    "\n",
    "purchasing_summary_df.style.format({\"Avg. Purchase Price\":\"${:,.2f}\",\"Total Revenue\":\"${:,.2f}\"})\n"
   ]
  },
  {
   "cell_type": "markdown",
   "metadata": {},
   "source": [
    "## Gender Demographics"
   ]
  },
  {
   "cell_type": "markdown",
   "metadata": {},
   "source": [
    "* Percentage and Count of Male Players\n",
    "\n",
    "\n",
    "* Percentage and Count of Female Players\n",
    "\n",
    "\n",
    "* Percentage and Count of Other / Non-Disclosed\n",
    "\n",
    "\n"
   ]
  },
  {
   "cell_type": "code",
   "execution_count": 5,
   "metadata": {},
   "outputs": [
    {
     "data": {
      "text/html": [
       "<div>\n",
       "<style scoped>\n",
       "    .dataframe tbody tr th:only-of-type {\n",
       "        vertical-align: middle;\n",
       "    }\n",
       "\n",
       "    .dataframe tbody tr th {\n",
       "        vertical-align: top;\n",
       "    }\n",
       "\n",
       "    .dataframe thead th {\n",
       "        text-align: right;\n",
       "    }\n",
       "</style>\n",
       "<table border=\"1\" class=\"dataframe\">\n",
       "  <thead>\n",
       "    <tr style=\"text-align: right;\">\n",
       "      <th></th>\n",
       "      <th>Count of Unique Players</th>\n",
       "      <th>Percentage of Unique Players</th>\n",
       "    </tr>\n",
       "    <tr>\n",
       "      <th>Gender</th>\n",
       "      <th></th>\n",
       "      <th></th>\n",
       "    </tr>\n",
       "  </thead>\n",
       "  <tbody>\n",
       "    <tr>\n",
       "      <td>Male</td>\n",
       "      <td>484</td>\n",
       "      <td>84.03%</td>\n",
       "    </tr>\n",
       "    <tr>\n",
       "      <td>Female</td>\n",
       "      <td>81</td>\n",
       "      <td>14.06%</td>\n",
       "    </tr>\n",
       "    <tr>\n",
       "      <td>Other / Non-Disclosed</td>\n",
       "      <td>11</td>\n",
       "      <td>1.91%</td>\n",
       "    </tr>\n",
       "  </tbody>\n",
       "</table>\n",
       "</div>"
      ],
      "text/plain": [
       "                       Count of Unique Players Percentage of Unique Players\n",
       "Gender                                                                     \n",
       "Male                                       484                       84.03%\n",
       "Female                                      81                       14.06%\n",
       "Other / Non-Disclosed                       11                        1.91%"
      ]
     },
     "execution_count": 5,
     "metadata": {},
     "output_type": "execute_result"
    }
   ],
   "source": [
    "#Group Data by Gender\n",
    "gender_demographics = purchase_data_df.groupby(\"Gender\")\n",
    "\n",
    "#Isolate Unique Records in Database to prevent double counting based on Screen Name (SN)\n",
    "\n",
    "gender_count = gender_demographics.nunique()[\"SN\"]\n",
    "\n",
    "#Calculate Gender Percentages using the Gender Count and Unique Players determined previously (unique_players)\n",
    "\n",
    "gender_percentage = (gender_count / unique_players)\n",
    "\n",
    "#Create DataFrame to show counts and percentages by Gender\n",
    "\n",
    "gender_stats_df = pd.DataFrame({\"Count of Unique Players\": gender_count, \"Percentage of Unique Players\":gender_percentage})\n",
    "\n",
    "#Convert Percentage column into float and format\n",
    "\n",
    "gender_stats_df[\"Percentage of Unique Players\"] = gender_stats_df[\"Percentage of Unique Players\"].astype(float).map(\"{:.2%}\".format)\n",
    "\n",
    "#Sort by Count of Players to Show Male, Female, Other per HW Assignment\n",
    "\n",
    "gender_stats_df.sort_values([\"Count of Unique Players\"], ascending=False)\n",
    "\n"
   ]
  },
  {
   "cell_type": "markdown",
   "metadata": {},
   "source": [
    "\n",
    "## Purchasing Analysis (Gender)"
   ]
  },
  {
   "cell_type": "markdown",
   "metadata": {},
   "source": [
    "* Run basic calculations to obtain purchase count, avg. purchase price, avg. purchase total per person etc. by gender\n",
    "\n",
    "\n",
    "\n",
    "\n",
    "* Create a summary data frame to hold the results\n",
    "\n",
    "\n",
    "* Optional: give the displayed data cleaner formatting\n",
    "\n",
    "\n",
    "* Display the summary data frame"
   ]
  },
  {
   "cell_type": "code",
   "execution_count": 6,
   "metadata": {},
   "outputs": [],
   "source": [
    "#Number of Purchases by Gender\n",
    "gender_purchase_count = gender_demographics[\"Purchase ID\"].count()\n",
    "\n",
    "#Average Purchase Price by Gender\n",
    "\n",
    "avg_purch_price = gender_demographics[\"Price\"].mean()\n",
    "\n",
    "#Total Purchases by Price for each gender\n",
    "\n",
    "gender_total_purch_price = gender_demographics[\"Price\"].sum()\n",
    "\n",
    "#Average Gender purchase price for each unique shopper\n",
    "\n",
    "gender_avg_purch_per_person = gender_total_purch_price / gender_count"
   ]
  },
  {
   "cell_type": "code",
   "execution_count": 7,
   "metadata": {},
   "outputs": [
    {
     "data": {
      "text/html": [
       "<style  type=\"text/css\" >\n",
       "</style><table id=\"T_83ad8db8_7059_11ea_95c3_acd5647cb938\" ><thead>    <tr>        <th class=\"blank level0\" ></th>        <th class=\"col_heading level0 col0\" >Total Purchases</th>        <th class=\"col_heading level0 col1\" >Average Purchase Price</th>        <th class=\"col_heading level0 col2\" >Total Sales</th>        <th class=\"col_heading level0 col3\" >Avg Sales Per Shopper</th>    </tr>    <tr>        <th class=\"index_name level0\" >Gender</th>        <th class=\"blank\" ></th>        <th class=\"blank\" ></th>        <th class=\"blank\" ></th>        <th class=\"blank\" ></th>    </tr></thead><tbody>\n",
       "                <tr>\n",
       "                        <th id=\"T_83ad8db8_7059_11ea_95c3_acd5647cb938level0_row0\" class=\"row_heading level0 row0\" >Female</th>\n",
       "                        <td id=\"T_83ad8db8_7059_11ea_95c3_acd5647cb938row0_col0\" class=\"data row0 col0\" >113</td>\n",
       "                        <td id=\"T_83ad8db8_7059_11ea_95c3_acd5647cb938row0_col1\" class=\"data row0 col1\" >$3.20</td>\n",
       "                        <td id=\"T_83ad8db8_7059_11ea_95c3_acd5647cb938row0_col2\" class=\"data row0 col2\" >$361.94</td>\n",
       "                        <td id=\"T_83ad8db8_7059_11ea_95c3_acd5647cb938row0_col3\" class=\"data row0 col3\" >$4.47</td>\n",
       "            </tr>\n",
       "            <tr>\n",
       "                        <th id=\"T_83ad8db8_7059_11ea_95c3_acd5647cb938level0_row1\" class=\"row_heading level0 row1\" >Male</th>\n",
       "                        <td id=\"T_83ad8db8_7059_11ea_95c3_acd5647cb938row1_col0\" class=\"data row1 col0\" >652</td>\n",
       "                        <td id=\"T_83ad8db8_7059_11ea_95c3_acd5647cb938row1_col1\" class=\"data row1 col1\" >$3.02</td>\n",
       "                        <td id=\"T_83ad8db8_7059_11ea_95c3_acd5647cb938row1_col2\" class=\"data row1 col2\" >$1,967.64</td>\n",
       "                        <td id=\"T_83ad8db8_7059_11ea_95c3_acd5647cb938row1_col3\" class=\"data row1 col3\" >$4.07</td>\n",
       "            </tr>\n",
       "            <tr>\n",
       "                        <th id=\"T_83ad8db8_7059_11ea_95c3_acd5647cb938level0_row2\" class=\"row_heading level0 row2\" >Other / Non-Disclosed</th>\n",
       "                        <td id=\"T_83ad8db8_7059_11ea_95c3_acd5647cb938row2_col0\" class=\"data row2 col0\" >15</td>\n",
       "                        <td id=\"T_83ad8db8_7059_11ea_95c3_acd5647cb938row2_col1\" class=\"data row2 col1\" >$3.35</td>\n",
       "                        <td id=\"T_83ad8db8_7059_11ea_95c3_acd5647cb938row2_col2\" class=\"data row2 col2\" >$50.19</td>\n",
       "                        <td id=\"T_83ad8db8_7059_11ea_95c3_acd5647cb938row2_col3\" class=\"data row2 col3\" >$4.56</td>\n",
       "            </tr>\n",
       "    </tbody></table>"
      ],
      "text/plain": [
       "<pandas.io.formats.style.Styler at 0x1e53b5c4788>"
      ]
     },
     "execution_count": 7,
     "metadata": {},
     "output_type": "execute_result"
    }
   ],
   "source": [
    "#Create Dataframe For Gender Purchasing Analysis\n",
    "\n",
    "gender_analysis_df = pd.DataFrame({\"Total Purchases\": gender_purchase_count,\n",
    "                                   \"Average Purchase Price\": avg_purch_price,\n",
    "                                   \"Total Sales\": gender_total_purch_price,\n",
    "                                   \"Avg Sales Per Shopper\": gender_avg_purch_per_person})\n",
    "\n",
    "#Format Avg Purch Price, Total Sales, and Avg Sales per Shopper\n",
    "\n",
    "gender_analysis_df.style.format({\"Average Purchase Price\":\"${:,.2f}\",\"Total Sales\":\"${:,.2f}\",\"Avg Sales Per Shopper\":\"${:,.2f}\"})"
   ]
  },
  {
   "cell_type": "markdown",
   "metadata": {},
   "source": [
    "## Age Demographics"
   ]
  },
  {
   "cell_type": "markdown",
   "metadata": {},
   "source": [
    "* Establish bins for ages\n",
    "\n",
    "\n",
    "* Categorize the existing players using the age bins. Hint: use pd.cut()\n",
    "\n",
    "\n",
    "* Calculate the numbers and percentages by age group\n",
    "\n",
    "\n",
    "* Create a summary data frame to hold the results\n",
    "\n",
    "\n",
    "* Optional: round the percentage column to two decimal points\n",
    "\n",
    "\n",
    "* Display Age Demographics Table\n"
   ]
  },
  {
   "cell_type": "code",
   "execution_count": 8,
   "metadata": {},
   "outputs": [
    {
     "data": {
      "text/html": [
       "<div>\n",
       "<style scoped>\n",
       "    .dataframe tbody tr th:only-of-type {\n",
       "        vertical-align: middle;\n",
       "    }\n",
       "\n",
       "    .dataframe tbody tr th {\n",
       "        vertical-align: top;\n",
       "    }\n",
       "\n",
       "    .dataframe thead th {\n",
       "        text-align: right;\n",
       "    }\n",
       "</style>\n",
       "<table border=\"1\" class=\"dataframe\">\n",
       "  <thead>\n",
       "    <tr style=\"text-align: right;\">\n",
       "      <th></th>\n",
       "      <th>Count of Unique Players</th>\n",
       "      <th>Percentage of Unique Players</th>\n",
       "    </tr>\n",
       "    <tr>\n",
       "      <th>Age Band</th>\n",
       "      <th></th>\n",
       "      <th></th>\n",
       "    </tr>\n",
       "  </thead>\n",
       "  <tbody>\n",
       "    <tr>\n",
       "      <td>&lt; 10</td>\n",
       "      <td>17</td>\n",
       "      <td>2.95%</td>\n",
       "    </tr>\n",
       "    <tr>\n",
       "      <td>11-14</td>\n",
       "      <td>22</td>\n",
       "      <td>3.82%</td>\n",
       "    </tr>\n",
       "    <tr>\n",
       "      <td>15-19</td>\n",
       "      <td>107</td>\n",
       "      <td>18.58%</td>\n",
       "    </tr>\n",
       "    <tr>\n",
       "      <td>20-24</td>\n",
       "      <td>258</td>\n",
       "      <td>44.79%</td>\n",
       "    </tr>\n",
       "    <tr>\n",
       "      <td>25-29</td>\n",
       "      <td>77</td>\n",
       "      <td>13.37%</td>\n",
       "    </tr>\n",
       "    <tr>\n",
       "      <td>30-34</td>\n",
       "      <td>52</td>\n",
       "      <td>9.03%</td>\n",
       "    </tr>\n",
       "    <tr>\n",
       "      <td>35-39</td>\n",
       "      <td>31</td>\n",
       "      <td>5.38%</td>\n",
       "    </tr>\n",
       "    <tr>\n",
       "      <td>40+</td>\n",
       "      <td>12</td>\n",
       "      <td>2.08%</td>\n",
       "    </tr>\n",
       "  </tbody>\n",
       "</table>\n",
       "</div>"
      ],
      "text/plain": [
       "          Count of Unique Players Percentage of Unique Players\n",
       "Age Band                                                      \n",
       "< 10                           17                        2.95%\n",
       "11-14                          22                        3.82%\n",
       "15-19                         107                       18.58%\n",
       "20-24                         258                       44.79%\n",
       "25-29                          77                       13.37%\n",
       "30-34                          52                        9.03%\n",
       "35-39                          31                        5.38%\n",
       "40+                            12                        2.08%"
      ]
     },
     "execution_count": 8,
     "metadata": {},
     "output_type": "execute_result"
    }
   ],
   "source": [
    "#Create bins and groups for age segmentation\n",
    "bins_age = [0,9,14,19,24,29,34,39,50]\n",
    "groups_age = [\"< 10\",\"11-14\",\"15-19\",\"20-24\",\"25-29\",\"30-34\",\"35-39\",\"40+\"]\n",
    "\n",
    "#Append Age Banding column to end of PurChase_Data Dataframe\n",
    "purchase_data_df[\"Age Band\"] = pd.cut(purchase_data_df[\"Age\"],bins_age, labels=groups_age)\n",
    "\n",
    "#Create Dataframe for Age Banding Analysis\n",
    "age_band_df = purchase_data_df.groupby(\"Age Band\")\n",
    "\n",
    "#Calculate number of unique players in each age band\n",
    "players_age_count = age_band_df[\"SN\"].nunique()\n",
    "\n",
    "#Calculate each age band as a percentage of total and round to 2 decimals\n",
    "players_age_percentage = (players_age_count / unique_players)\n",
    "\n",
    "#Create dataframe to show counts and percentage by age band\n",
    "age_band_summary = pd.DataFrame({\"Count of Unique Players\": players_age_count, \"Percentage of Unique Players\":players_age_percentage})\n",
    "\n",
    "#Convert Percentage column into float and format\n",
    "\n",
    "age_band_summary[\"Percentage of Unique Players\"] = age_band_summary[\"Percentage of Unique Players\"].astype(float).map(\"{:.2%}\".format)\n",
    "\n",
    "age_band_summary"
   ]
  },
  {
   "cell_type": "markdown",
   "metadata": {},
   "source": [
    "## Purchasing Analysis (Age)"
   ]
  },
  {
   "cell_type": "markdown",
   "metadata": {},
   "source": [
    "* Bin the purchase_data data frame by age\n",
    "\n",
    "\n",
    "* Run basic calculations to obtain purchase count, avg. purchase price, avg. purchase total per person etc. in the table below\n",
    "\n",
    "\n",
    "* Create a summary data frame to hold the results\n",
    "\n",
    "\n",
    "* Optional: give the displayed data cleaner formatting\n",
    "\n",
    "\n",
    "* Display the summary data frame"
   ]
  },
  {
   "cell_type": "code",
   "execution_count": 9,
   "metadata": {},
   "outputs": [],
   "source": [
    "#Number of Purchases by Age Band\n",
    "age_purchase_count = age_band_df[\"Purchase ID\"].count()\n",
    "\n",
    "\n",
    "#Average Purchase Price by Age Band\n",
    "\n",
    "age_avg_purch_price = age_band_df[\"Price\"].mean()\n",
    "\n",
    "\n",
    "#Total Purchases by Price for each Age Band\n",
    "\n",
    "age_total_purch_price = age_band_df[\"Price\"].sum()\n",
    "\n",
    "#Average  purchase price for each unique shopper in each Age Band\n",
    "\n",
    "age_avg_purch_per_person = age_total_purch_price / players_age_count"
   ]
  },
  {
   "cell_type": "code",
   "execution_count": 10,
   "metadata": {},
   "outputs": [
    {
     "data": {
      "text/html": [
       "<style  type=\"text/css\" >\n",
       "</style><table id=\"T_947402d0_7059_11ea_9d5b_acd5647cb938\" ><thead>    <tr>        <th class=\"blank level0\" ></th>        <th class=\"col_heading level0 col0\" >Total Purchases</th>        <th class=\"col_heading level0 col1\" >Average Purchase Price</th>        <th class=\"col_heading level0 col2\" >Total Sales</th>        <th class=\"col_heading level0 col3\" >Avg Sales Per Shopper</th>    </tr>    <tr>        <th class=\"index_name level0\" >Age Band</th>        <th class=\"blank\" ></th>        <th class=\"blank\" ></th>        <th class=\"blank\" ></th>        <th class=\"blank\" ></th>    </tr></thead><tbody>\n",
       "                <tr>\n",
       "                        <th id=\"T_947402d0_7059_11ea_9d5b_acd5647cb938level0_row0\" class=\"row_heading level0 row0\" >< 10</th>\n",
       "                        <td id=\"T_947402d0_7059_11ea_9d5b_acd5647cb938row0_col0\" class=\"data row0 col0\" >23</td>\n",
       "                        <td id=\"T_947402d0_7059_11ea_9d5b_acd5647cb938row0_col1\" class=\"data row0 col1\" >$3.35</td>\n",
       "                        <td id=\"T_947402d0_7059_11ea_9d5b_acd5647cb938row0_col2\" class=\"data row0 col2\" >$77.13</td>\n",
       "                        <td id=\"T_947402d0_7059_11ea_9d5b_acd5647cb938row0_col3\" class=\"data row0 col3\" >$4.54</td>\n",
       "            </tr>\n",
       "            <tr>\n",
       "                        <th id=\"T_947402d0_7059_11ea_9d5b_acd5647cb938level0_row1\" class=\"row_heading level0 row1\" >11-14</th>\n",
       "                        <td id=\"T_947402d0_7059_11ea_9d5b_acd5647cb938row1_col0\" class=\"data row1 col0\" >28</td>\n",
       "                        <td id=\"T_947402d0_7059_11ea_9d5b_acd5647cb938row1_col1\" class=\"data row1 col1\" >$2.96</td>\n",
       "                        <td id=\"T_947402d0_7059_11ea_9d5b_acd5647cb938row1_col2\" class=\"data row1 col2\" >$82.78</td>\n",
       "                        <td id=\"T_947402d0_7059_11ea_9d5b_acd5647cb938row1_col3\" class=\"data row1 col3\" >$3.76</td>\n",
       "            </tr>\n",
       "            <tr>\n",
       "                        <th id=\"T_947402d0_7059_11ea_9d5b_acd5647cb938level0_row2\" class=\"row_heading level0 row2\" >15-19</th>\n",
       "                        <td id=\"T_947402d0_7059_11ea_9d5b_acd5647cb938row2_col0\" class=\"data row2 col0\" >136</td>\n",
       "                        <td id=\"T_947402d0_7059_11ea_9d5b_acd5647cb938row2_col1\" class=\"data row2 col1\" >$3.04</td>\n",
       "                        <td id=\"T_947402d0_7059_11ea_9d5b_acd5647cb938row2_col2\" class=\"data row2 col2\" >$412.89</td>\n",
       "                        <td id=\"T_947402d0_7059_11ea_9d5b_acd5647cb938row2_col3\" class=\"data row2 col3\" >$3.86</td>\n",
       "            </tr>\n",
       "            <tr>\n",
       "                        <th id=\"T_947402d0_7059_11ea_9d5b_acd5647cb938level0_row3\" class=\"row_heading level0 row3\" >20-24</th>\n",
       "                        <td id=\"T_947402d0_7059_11ea_9d5b_acd5647cb938row3_col0\" class=\"data row3 col0\" >365</td>\n",
       "                        <td id=\"T_947402d0_7059_11ea_9d5b_acd5647cb938row3_col1\" class=\"data row3 col1\" >$3.05</td>\n",
       "                        <td id=\"T_947402d0_7059_11ea_9d5b_acd5647cb938row3_col2\" class=\"data row3 col2\" >$1,114.06</td>\n",
       "                        <td id=\"T_947402d0_7059_11ea_9d5b_acd5647cb938row3_col3\" class=\"data row3 col3\" >$4.32</td>\n",
       "            </tr>\n",
       "            <tr>\n",
       "                        <th id=\"T_947402d0_7059_11ea_9d5b_acd5647cb938level0_row4\" class=\"row_heading level0 row4\" >25-29</th>\n",
       "                        <td id=\"T_947402d0_7059_11ea_9d5b_acd5647cb938row4_col0\" class=\"data row4 col0\" >101</td>\n",
       "                        <td id=\"T_947402d0_7059_11ea_9d5b_acd5647cb938row4_col1\" class=\"data row4 col1\" >$2.90</td>\n",
       "                        <td id=\"T_947402d0_7059_11ea_9d5b_acd5647cb938row4_col2\" class=\"data row4 col2\" >$293.00</td>\n",
       "                        <td id=\"T_947402d0_7059_11ea_9d5b_acd5647cb938row4_col3\" class=\"data row4 col3\" >$3.81</td>\n",
       "            </tr>\n",
       "            <tr>\n",
       "                        <th id=\"T_947402d0_7059_11ea_9d5b_acd5647cb938level0_row5\" class=\"row_heading level0 row5\" >30-34</th>\n",
       "                        <td id=\"T_947402d0_7059_11ea_9d5b_acd5647cb938row5_col0\" class=\"data row5 col0\" >73</td>\n",
       "                        <td id=\"T_947402d0_7059_11ea_9d5b_acd5647cb938row5_col1\" class=\"data row5 col1\" >$2.93</td>\n",
       "                        <td id=\"T_947402d0_7059_11ea_9d5b_acd5647cb938row5_col2\" class=\"data row5 col2\" >$214.00</td>\n",
       "                        <td id=\"T_947402d0_7059_11ea_9d5b_acd5647cb938row5_col3\" class=\"data row5 col3\" >$4.12</td>\n",
       "            </tr>\n",
       "            <tr>\n",
       "                        <th id=\"T_947402d0_7059_11ea_9d5b_acd5647cb938level0_row6\" class=\"row_heading level0 row6\" >35-39</th>\n",
       "                        <td id=\"T_947402d0_7059_11ea_9d5b_acd5647cb938row6_col0\" class=\"data row6 col0\" >41</td>\n",
       "                        <td id=\"T_947402d0_7059_11ea_9d5b_acd5647cb938row6_col1\" class=\"data row6 col1\" >$3.60</td>\n",
       "                        <td id=\"T_947402d0_7059_11ea_9d5b_acd5647cb938row6_col2\" class=\"data row6 col2\" >$147.67</td>\n",
       "                        <td id=\"T_947402d0_7059_11ea_9d5b_acd5647cb938row6_col3\" class=\"data row6 col3\" >$4.76</td>\n",
       "            </tr>\n",
       "            <tr>\n",
       "                        <th id=\"T_947402d0_7059_11ea_9d5b_acd5647cb938level0_row7\" class=\"row_heading level0 row7\" >40+</th>\n",
       "                        <td id=\"T_947402d0_7059_11ea_9d5b_acd5647cb938row7_col0\" class=\"data row7 col0\" >13</td>\n",
       "                        <td id=\"T_947402d0_7059_11ea_9d5b_acd5647cb938row7_col1\" class=\"data row7 col1\" >$2.94</td>\n",
       "                        <td id=\"T_947402d0_7059_11ea_9d5b_acd5647cb938row7_col2\" class=\"data row7 col2\" >$38.24</td>\n",
       "                        <td id=\"T_947402d0_7059_11ea_9d5b_acd5647cb938row7_col3\" class=\"data row7 col3\" >$3.19</td>\n",
       "            </tr>\n",
       "    </tbody></table>"
      ],
      "text/plain": [
       "<pandas.io.formats.style.Styler at 0x1e53b5bb488>"
      ]
     },
     "execution_count": 10,
     "metadata": {},
     "output_type": "execute_result"
    }
   ],
   "source": [
    "#Create Dataframe For Age Banding Purchasing Analysis\n",
    "\n",
    "age_analysis_df = pd.DataFrame({\"Total Purchases\": age_purchase_count,\n",
    "                                   \"Average Purchase Price\": age_avg_purch_price,\n",
    "                                   \"Total Sales\": age_total_purch_price,\n",
    "                                   \"Avg Sales Per Shopper\": age_avg_purch_per_person})\n",
    "\n",
    "#Format Avg Purch Price, Total Sales, and Avg Sales per Shopper\n",
    "\n",
    "age_analysis_df.style.format({\"Average Purchase Price\":\"${:,.2f}\",\"Total Sales\":\"${:,.2f}\",\"Avg Sales Per Shopper\":\"${:,.2f}\"})"
   ]
  },
  {
   "cell_type": "markdown",
   "metadata": {},
   "source": [
    "## Top Spenders"
   ]
  },
  {
   "cell_type": "markdown",
   "metadata": {},
   "source": [
    "* Run basic calculations to obtain the results in the table below\n",
    "\n",
    "\n",
    "* Create a summary data frame to hold the results\n",
    "\n",
    "\n",
    "* Sort the total purchase value column in descending order\n",
    "\n",
    "\n",
    "* Optional: give the displayed data cleaner formatting\n",
    "\n",
    "\n",
    "* Display a preview of the summary data frame\n",
    "\n"
   ]
  },
  {
   "cell_type": "code",
   "execution_count": 11,
   "metadata": {},
   "outputs": [],
   "source": [
    "#Group by Screen Name (SN)\n",
    "SN_spending = purchase_data_df.groupby(\"SN\")\n",
    "\n",
    "#Total Purchases by Screen Name (SN)\n",
    "SN_total_purchases = SN_spending[\"Purchase ID\"].count()\n",
    "\n",
    "#Total Spent by Screen Name (SN)\n",
    "SN_total_spent = SN_spending[\"Price\"].sum()\n",
    "\n",
    "#Average Purchase Price by Screen Name (SN)\n",
    "SN_avg_price = SN_total_spent / SN_total_purchases"
   ]
  },
  {
   "cell_type": "code",
   "execution_count": 12,
   "metadata": {},
   "outputs": [
    {
     "data": {
      "text/html": [
       "<style  type=\"text/css\" >\n",
       "</style><table id=\"T_a5e26298_7059_11ea_a87c_acd5647cb938\" ><thead>    <tr>        <th class=\"blank level0\" ></th>        <th class=\"col_heading level0 col0\" >Total Purchases</th>        <th class=\"col_heading level0 col1\" >Total Purchase Value</th>        <th class=\"col_heading level0 col2\" >Average Purchase Price</th>    </tr>    <tr>        <th class=\"index_name level0\" >SN</th>        <th class=\"blank\" ></th>        <th class=\"blank\" ></th>        <th class=\"blank\" ></th>    </tr></thead><tbody>\n",
       "                <tr>\n",
       "                        <th id=\"T_a5e26298_7059_11ea_a87c_acd5647cb938level0_row0\" class=\"row_heading level0 row0\" >Lisosia93</th>\n",
       "                        <td id=\"T_a5e26298_7059_11ea_a87c_acd5647cb938row0_col0\" class=\"data row0 col0\" >5</td>\n",
       "                        <td id=\"T_a5e26298_7059_11ea_a87c_acd5647cb938row0_col1\" class=\"data row0 col1\" >$18.96</td>\n",
       "                        <td id=\"T_a5e26298_7059_11ea_a87c_acd5647cb938row0_col2\" class=\"data row0 col2\" >$3.79</td>\n",
       "            </tr>\n",
       "            <tr>\n",
       "                        <th id=\"T_a5e26298_7059_11ea_a87c_acd5647cb938level0_row1\" class=\"row_heading level0 row1\" >Idastidru52</th>\n",
       "                        <td id=\"T_a5e26298_7059_11ea_a87c_acd5647cb938row1_col0\" class=\"data row1 col0\" >4</td>\n",
       "                        <td id=\"T_a5e26298_7059_11ea_a87c_acd5647cb938row1_col1\" class=\"data row1 col1\" >$15.45</td>\n",
       "                        <td id=\"T_a5e26298_7059_11ea_a87c_acd5647cb938row1_col2\" class=\"data row1 col2\" >$3.86</td>\n",
       "            </tr>\n",
       "            <tr>\n",
       "                        <th id=\"T_a5e26298_7059_11ea_a87c_acd5647cb938level0_row2\" class=\"row_heading level0 row2\" >Chamjask73</th>\n",
       "                        <td id=\"T_a5e26298_7059_11ea_a87c_acd5647cb938row2_col0\" class=\"data row2 col0\" >3</td>\n",
       "                        <td id=\"T_a5e26298_7059_11ea_a87c_acd5647cb938row2_col1\" class=\"data row2 col1\" >$13.83</td>\n",
       "                        <td id=\"T_a5e26298_7059_11ea_a87c_acd5647cb938row2_col2\" class=\"data row2 col2\" >$4.61</td>\n",
       "            </tr>\n",
       "            <tr>\n",
       "                        <th id=\"T_a5e26298_7059_11ea_a87c_acd5647cb938level0_row3\" class=\"row_heading level0 row3\" >Iral74</th>\n",
       "                        <td id=\"T_a5e26298_7059_11ea_a87c_acd5647cb938row3_col0\" class=\"data row3 col0\" >4</td>\n",
       "                        <td id=\"T_a5e26298_7059_11ea_a87c_acd5647cb938row3_col1\" class=\"data row3 col1\" >$13.62</td>\n",
       "                        <td id=\"T_a5e26298_7059_11ea_a87c_acd5647cb938row3_col2\" class=\"data row3 col2\" >$3.40</td>\n",
       "            </tr>\n",
       "            <tr>\n",
       "                        <th id=\"T_a5e26298_7059_11ea_a87c_acd5647cb938level0_row4\" class=\"row_heading level0 row4\" >Iskadarya95</th>\n",
       "                        <td id=\"T_a5e26298_7059_11ea_a87c_acd5647cb938row4_col0\" class=\"data row4 col0\" >3</td>\n",
       "                        <td id=\"T_a5e26298_7059_11ea_a87c_acd5647cb938row4_col1\" class=\"data row4 col1\" >$13.10</td>\n",
       "                        <td id=\"T_a5e26298_7059_11ea_a87c_acd5647cb938row4_col2\" class=\"data row4 col2\" >$4.37</td>\n",
       "            </tr>\n",
       "    </tbody></table>"
      ],
      "text/plain": [
       "<pandas.io.formats.style.Styler at 0x1e53b5b71c8>"
      ]
     },
     "execution_count": 12,
     "metadata": {},
     "output_type": "execute_result"
    }
   ],
   "source": [
    "#Create Dataframe for Top SN Purchasing Analysis\n",
    "\n",
    "top_spenders = pd.DataFrame({\"Total Purchases\": SN_total_purchases,\n",
    "                                   \"Total Purchase Value\": SN_total_spent,\n",
    "                                   \"Average Purchase Price\": SN_avg_price}\n",
    "                                   )\n",
    "\n",
    "#Create Dataframe to sort Screen Names by Total Purchase Value\n",
    "sorted_spenders = top_spenders.sort_values([\"Total Purchase Value\"], ascending=False).head()\n",
    "\n",
    "#Formatting of Avg Purchase Price and Total Purchase Price\n",
    "sorted_spenders.style.format({\"Average Purchase Price\":\"${:,.2f}\",\"Total Purchase Value\":\"${:,.2f}\"})"
   ]
  },
  {
   "cell_type": "markdown",
   "metadata": {},
   "source": [
    "## Most Popular Items"
   ]
  },
  {
   "cell_type": "markdown",
   "metadata": {},
   "source": [
    "* Retrieve the Item ID, Item Name, and Item Price columns\n",
    "\n",
    "\n",
    "* Group by Item ID and Item Name. Perform calculations to obtain purchase count, item price, and total purchase value\n",
    "\n",
    "\n",
    "* Create a summary data frame to hold the results\n",
    "\n",
    "\n",
    "* Sort the purchase count column in descending order\n",
    "\n",
    "\n",
    "* Optional: give the displayed data cleaner formatting\n",
    "\n",
    "\n",
    "* Display a preview of the summary data frame\n",
    "\n"
   ]
  },
  {
   "cell_type": "code",
   "execution_count": 13,
   "metadata": {},
   "outputs": [],
   "source": [
    "#Create DataFrame with Item ID, Item Name, Price to determine most popular items\n",
    "popular_items = purchase_data_df[[\"Item ID\",\"Item Name\",\"Price\",\"Purchase ID\"]]\n",
    "\n",
    "\n",
    "#Group Items by Item ID and Item Name\n",
    "items_description = popular_items.groupby([\"Item ID\",\"Item Name\"])\n",
    "\n",
    "#Count No. of Purchases by Item ID and Item Name\n",
    "times_purchased = items_description[\"Purchase ID\"].count()\n",
    "\n",
    "#Total Revenue by Item ID and Item Name\n",
    "total_item_revenue = items_description[\"Price\"].sum()\n",
    "\n",
    "#Average Item Price\n",
    "avg_item_revenue = total_item_revenue / times_purchased"
   ]
  },
  {
   "cell_type": "code",
   "execution_count": 14,
   "metadata": {},
   "outputs": [
    {
     "data": {
      "text/html": [
       "<style  type=\"text/css\" >\n",
       "</style><table id=\"T_ae280ed4_7059_11ea_849f_acd5647cb938\" ><thead>    <tr>        <th class=\"blank\" ></th>        <th class=\"blank level0\" ></th>        <th class=\"col_heading level0 col0\" >Total Purchases</th>        <th class=\"col_heading level0 col1\" >Total Item Revenue</th>        <th class=\"col_heading level0 col2\" >Average Item Price</th>    </tr>    <tr>        <th class=\"index_name level0\" >Item ID</th>        <th class=\"index_name level1\" >Item Name</th>        <th class=\"blank\" ></th>        <th class=\"blank\" ></th>        <th class=\"blank\" ></th>    </tr></thead><tbody>\n",
       "                <tr>\n",
       "                        <th id=\"T_ae280ed4_7059_11ea_849f_acd5647cb938level0_row0\" class=\"row_heading level0 row0\" >178</th>\n",
       "                        <th id=\"T_ae280ed4_7059_11ea_849f_acd5647cb938level1_row0\" class=\"row_heading level1 row0\" >Oathbreaker, Last Hope of the Breaking Storm</th>\n",
       "                        <td id=\"T_ae280ed4_7059_11ea_849f_acd5647cb938row0_col0\" class=\"data row0 col0\" >12</td>\n",
       "                        <td id=\"T_ae280ed4_7059_11ea_849f_acd5647cb938row0_col1\" class=\"data row0 col1\" >$50.76</td>\n",
       "                        <td id=\"T_ae280ed4_7059_11ea_849f_acd5647cb938row0_col2\" class=\"data row0 col2\" >$4.23</td>\n",
       "            </tr>\n",
       "            <tr>\n",
       "                        <th id=\"T_ae280ed4_7059_11ea_849f_acd5647cb938level0_row1\" class=\"row_heading level0 row1\" >145</th>\n",
       "                        <th id=\"T_ae280ed4_7059_11ea_849f_acd5647cb938level1_row1\" class=\"row_heading level1 row1\" >Fiery Glass Crusader</th>\n",
       "                        <td id=\"T_ae280ed4_7059_11ea_849f_acd5647cb938row1_col0\" class=\"data row1 col0\" >9</td>\n",
       "                        <td id=\"T_ae280ed4_7059_11ea_849f_acd5647cb938row1_col1\" class=\"data row1 col1\" >$41.22</td>\n",
       "                        <td id=\"T_ae280ed4_7059_11ea_849f_acd5647cb938row1_col2\" class=\"data row1 col2\" >$4.58</td>\n",
       "            </tr>\n",
       "            <tr>\n",
       "                        <th id=\"T_ae280ed4_7059_11ea_849f_acd5647cb938level0_row2\" class=\"row_heading level0 row2\" >108</th>\n",
       "                        <th id=\"T_ae280ed4_7059_11ea_849f_acd5647cb938level1_row2\" class=\"row_heading level1 row2\" >Extraction, Quickblade Of Trembling Hands</th>\n",
       "                        <td id=\"T_ae280ed4_7059_11ea_849f_acd5647cb938row2_col0\" class=\"data row2 col0\" >9</td>\n",
       "                        <td id=\"T_ae280ed4_7059_11ea_849f_acd5647cb938row2_col1\" class=\"data row2 col1\" >$31.77</td>\n",
       "                        <td id=\"T_ae280ed4_7059_11ea_849f_acd5647cb938row2_col2\" class=\"data row2 col2\" >$3.53</td>\n",
       "            </tr>\n",
       "            <tr>\n",
       "                        <th id=\"T_ae280ed4_7059_11ea_849f_acd5647cb938level0_row3\" class=\"row_heading level0 row3\" >82</th>\n",
       "                        <th id=\"T_ae280ed4_7059_11ea_849f_acd5647cb938level1_row3\" class=\"row_heading level1 row3\" >Nirvana</th>\n",
       "                        <td id=\"T_ae280ed4_7059_11ea_849f_acd5647cb938row3_col0\" class=\"data row3 col0\" >9</td>\n",
       "                        <td id=\"T_ae280ed4_7059_11ea_849f_acd5647cb938row3_col1\" class=\"data row3 col1\" >$44.10</td>\n",
       "                        <td id=\"T_ae280ed4_7059_11ea_849f_acd5647cb938row3_col2\" class=\"data row3 col2\" >$4.90</td>\n",
       "            </tr>\n",
       "            <tr>\n",
       "                        <th id=\"T_ae280ed4_7059_11ea_849f_acd5647cb938level0_row4\" class=\"row_heading level0 row4\" >19</th>\n",
       "                        <th id=\"T_ae280ed4_7059_11ea_849f_acd5647cb938level1_row4\" class=\"row_heading level1 row4\" >Pursuit, Cudgel of Necromancy</th>\n",
       "                        <td id=\"T_ae280ed4_7059_11ea_849f_acd5647cb938row4_col0\" class=\"data row4 col0\" >8</td>\n",
       "                        <td id=\"T_ae280ed4_7059_11ea_849f_acd5647cb938row4_col1\" class=\"data row4 col1\" >$8.16</td>\n",
       "                        <td id=\"T_ae280ed4_7059_11ea_849f_acd5647cb938row4_col2\" class=\"data row4 col2\" >$1.02</td>\n",
       "            </tr>\n",
       "    </tbody></table>"
      ],
      "text/plain": [
       "<pandas.io.formats.style.Styler at 0x1e53b5bd948>"
      ]
     },
     "execution_count": 14,
     "metadata": {},
     "output_type": "execute_result"
    }
   ],
   "source": [
    "#Create DataFrame to analyze Most Popular Items\n",
    "\n",
    "most_popular_items = pd.DataFrame({\"Total Purchases\": times_purchased,\n",
    "                                   \"Total Item Revenue\": total_item_revenue,\n",
    "                                   \"Average Item Price\": avg_item_revenue}\n",
    "                                   )\n",
    "\n",
    "#Create Dataframe to sort Item ID and Item Name by Total Purchases\n",
    "sorted_popular_items = most_popular_items.sort_values([\"Total Purchases\"], ascending=False).head()\n",
    "\n",
    "#Formatting of Total Item Revenue and Average Item Price\n",
    "sorted_popular_items.style.format({\"Total Item Revenue\":\"${:,.2f}\",\"Average Item Price\":\"${:,.2f}\"})"
   ]
  },
  {
   "cell_type": "markdown",
   "metadata": {},
   "source": [
    "## Most Profitable Items"
   ]
  },
  {
   "cell_type": "markdown",
   "metadata": {},
   "source": [
    "* Sort the above table by total purchase value in descending order\n",
    "\n",
    "\n",
    "* Optional: give the displayed data cleaner formatting\n",
    "\n",
    "\n",
    "* Display a preview of the data frame\n",
    "\n"
   ]
  },
  {
   "cell_type": "code",
   "execution_count": 15,
   "metadata": {
    "scrolled": true
   },
   "outputs": [
    {
     "data": {
      "text/html": [
       "<style  type=\"text/css\" >\n",
       "</style><table id=\"T_b5188024_7059_11ea_8389_acd5647cb938\" ><thead>    <tr>        <th class=\"blank\" ></th>        <th class=\"blank level0\" ></th>        <th class=\"col_heading level0 col0\" >Total Purchases</th>        <th class=\"col_heading level0 col1\" >Total Item Revenue</th>        <th class=\"col_heading level0 col2\" >Average Item Price</th>    </tr>    <tr>        <th class=\"index_name level0\" >Item ID</th>        <th class=\"index_name level1\" >Item Name</th>        <th class=\"blank\" ></th>        <th class=\"blank\" ></th>        <th class=\"blank\" ></th>    </tr></thead><tbody>\n",
       "                <tr>\n",
       "                        <th id=\"T_b5188024_7059_11ea_8389_acd5647cb938level0_row0\" class=\"row_heading level0 row0\" >178</th>\n",
       "                        <th id=\"T_b5188024_7059_11ea_8389_acd5647cb938level1_row0\" class=\"row_heading level1 row0\" >Oathbreaker, Last Hope of the Breaking Storm</th>\n",
       "                        <td id=\"T_b5188024_7059_11ea_8389_acd5647cb938row0_col0\" class=\"data row0 col0\" >12</td>\n",
       "                        <td id=\"T_b5188024_7059_11ea_8389_acd5647cb938row0_col1\" class=\"data row0 col1\" >$50.76</td>\n",
       "                        <td id=\"T_b5188024_7059_11ea_8389_acd5647cb938row0_col2\" class=\"data row0 col2\" >$4.23</td>\n",
       "            </tr>\n",
       "            <tr>\n",
       "                        <th id=\"T_b5188024_7059_11ea_8389_acd5647cb938level0_row1\" class=\"row_heading level0 row1\" >82</th>\n",
       "                        <th id=\"T_b5188024_7059_11ea_8389_acd5647cb938level1_row1\" class=\"row_heading level1 row1\" >Nirvana</th>\n",
       "                        <td id=\"T_b5188024_7059_11ea_8389_acd5647cb938row1_col0\" class=\"data row1 col0\" >9</td>\n",
       "                        <td id=\"T_b5188024_7059_11ea_8389_acd5647cb938row1_col1\" class=\"data row1 col1\" >$44.10</td>\n",
       "                        <td id=\"T_b5188024_7059_11ea_8389_acd5647cb938row1_col2\" class=\"data row1 col2\" >$4.90</td>\n",
       "            </tr>\n",
       "            <tr>\n",
       "                        <th id=\"T_b5188024_7059_11ea_8389_acd5647cb938level0_row2\" class=\"row_heading level0 row2\" >145</th>\n",
       "                        <th id=\"T_b5188024_7059_11ea_8389_acd5647cb938level1_row2\" class=\"row_heading level1 row2\" >Fiery Glass Crusader</th>\n",
       "                        <td id=\"T_b5188024_7059_11ea_8389_acd5647cb938row2_col0\" class=\"data row2 col0\" >9</td>\n",
       "                        <td id=\"T_b5188024_7059_11ea_8389_acd5647cb938row2_col1\" class=\"data row2 col1\" >$41.22</td>\n",
       "                        <td id=\"T_b5188024_7059_11ea_8389_acd5647cb938row2_col2\" class=\"data row2 col2\" >$4.58</td>\n",
       "            </tr>\n",
       "            <tr>\n",
       "                        <th id=\"T_b5188024_7059_11ea_8389_acd5647cb938level0_row3\" class=\"row_heading level0 row3\" >92</th>\n",
       "                        <th id=\"T_b5188024_7059_11ea_8389_acd5647cb938level1_row3\" class=\"row_heading level1 row3\" >Final Critic</th>\n",
       "                        <td id=\"T_b5188024_7059_11ea_8389_acd5647cb938row3_col0\" class=\"data row3 col0\" >8</td>\n",
       "                        <td id=\"T_b5188024_7059_11ea_8389_acd5647cb938row3_col1\" class=\"data row3 col1\" >$39.04</td>\n",
       "                        <td id=\"T_b5188024_7059_11ea_8389_acd5647cb938row3_col2\" class=\"data row3 col2\" >$4.88</td>\n",
       "            </tr>\n",
       "            <tr>\n",
       "                        <th id=\"T_b5188024_7059_11ea_8389_acd5647cb938level0_row4\" class=\"row_heading level0 row4\" >103</th>\n",
       "                        <th id=\"T_b5188024_7059_11ea_8389_acd5647cb938level1_row4\" class=\"row_heading level1 row4\" >Singed Scalpel</th>\n",
       "                        <td id=\"T_b5188024_7059_11ea_8389_acd5647cb938row4_col0\" class=\"data row4 col0\" >8</td>\n",
       "                        <td id=\"T_b5188024_7059_11ea_8389_acd5647cb938row4_col1\" class=\"data row4 col1\" >$34.80</td>\n",
       "                        <td id=\"T_b5188024_7059_11ea_8389_acd5647cb938row4_col2\" class=\"data row4 col2\" >$4.35</td>\n",
       "            </tr>\n",
       "    </tbody></table>"
      ],
      "text/plain": [
       "<pandas.io.formats.style.Styler at 0x1e53b548688>"
      ]
     },
     "execution_count": 15,
     "metadata": {},
     "output_type": "execute_result"
    }
   ],
   "source": [
    "#Create Dataframe to sort Item ID and Item Name by Total Purchases\n",
    "sorted_profitable_items = most_popular_items.sort_values([\"Total Item Revenue\"], ascending=False).head()\n",
    "\n",
    "#Formatting of Total Item Revenue and Average Item Price\n",
    "sorted_profitable_items.style.format({\"Total Item Revenue\":\"${:,.2f}\",\"Average Item Price\":\"${:,.2f}\"})"
   ]
  },
  {
   "cell_type": "code",
   "execution_count": null,
   "metadata": {},
   "outputs": [],
   "source": []
  }
 ],
 "metadata": {
  "anaconda-cloud": {},
  "kernel_info": {
   "name": "python3"
  },
  "kernelspec": {
   "display_name": "Python 3",
   "language": "python",
   "name": "python3"
  },
  "language_info": {
   "codemirror_mode": {
    "name": "ipython",
    "version": 3
   },
   "file_extension": ".py",
   "mimetype": "text/x-python",
   "name": "python",
   "nbconvert_exporter": "python",
   "pygments_lexer": "ipython3",
   "version": "3.7.4"
  },
  "latex_envs": {
   "LaTeX_envs_menu_present": true,
   "autoclose": false,
   "autocomplete": true,
   "bibliofile": "biblio.bib",
   "cite_by": "apalike",
   "current_citInitial": 1,
   "eqLabelWithNumbers": true,
   "eqNumInitial": 1,
   "hotkeys": {
    "equation": "Ctrl-E",
    "itemize": "Ctrl-I"
   },
   "labels_anchors": false,
   "latex_user_defs": false,
   "report_style_numbering": false,
   "user_envs_cfg": false
  },
  "nteract": {
   "version": "0.2.0"
  }
 },
 "nbformat": 4,
 "nbformat_minor": 2
}
